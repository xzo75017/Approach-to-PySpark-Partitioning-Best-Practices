{
 "cells": [
  {
   "cell_type": "code",
   "execution_count": 1,
   "id": "a777c424",
   "metadata": {},
   "outputs": [
    {
     "name": "stdout",
     "output_type": "stream",
     "text": [
      "Requirement already satisfied: pyspark in c:\\users\\user\\anaconda3\\lib\\site-packages (3.3.0)\n",
      "Requirement already satisfied: py4j==0.10.9.5 in c:\\users\\user\\anaconda3\\lib\\site-packages (from pyspark) (0.10.9.5)\n"
     ]
    }
   ],
   "source": [
    "#install pyspark library\n",
    "!pip install pyspark"
   ]
  },
  {
   "cell_type": "code",
   "execution_count": 2,
   "id": "563a7951",
   "metadata": {},
   "outputs": [],
   "source": [
    "#import pyspark\n",
    "import pyspark\n"
   ]
  },
  {
   "cell_type": "code",
   "execution_count": 3,
   "id": "06e2c44d",
   "metadata": {},
   "outputs": [],
   "source": [
    "#import sparkSession\n",
    "from pyspark.sql import SparkSession"
   ]
  },
  {
   "cell_type": "code",
   "execution_count": null,
   "id": "994e1832",
   "metadata": {},
   "outputs": [],
   "source": []
  },
  {
   "cell_type": "code",
   "execution_count": null,
   "id": "bf632509",
   "metadata": {},
   "outputs": [],
   "source": []
  },
  {
   "cell_type": "code",
   "execution_count": 4,
   "id": "9e8019a6",
   "metadata": {},
   "outputs": [],
   "source": [
    "#Creating a sparkSession object and providing appName \n",
    "spark=SparkSession.builder.appName(\"partitions\").getOrCreate()"
   ]
  },
  {
   "cell_type": "code",
   "execution_count": 5,
   "id": "4c8ad568",
   "metadata": {},
   "outputs": [
    {
     "name": "stdout",
     "output_type": "stream",
     "text": [
      "Wall time: 20.2 s\n"
     ]
    }
   ],
   "source": [
    "#to create dataframe form External datasets\n",
    "%time AirlineDF = spark.read.option(\"header\", \"true\").csv(r\"C:\\Users\\User\\Downloads\\partitions\\Data\\*\")"
   ]
  },
  {
   "cell_type": "code",
   "execution_count": 6,
   "id": "50e52ac5",
   "metadata": {},
   "outputs": [
    {
     "name": "stdout",
     "output_type": "stream",
     "text": [
      "+----+-------+-----+----------+---------+----------+-------------+---------+-------+-------+---------+---------------+------------------+------------------+------+--------------+-----------+---------------+---------------+---------+-------------+----------------+----------------+----+---------------+---------+-------------+-------------+-------+----------+-------+--------+---------------+--------+--------------------+----------+-------+---------+--------+------+----------+-------+--------+---------------+--------+------------------+----------+---------+----------------+--------+--------------+-----------------+-------+-------+--------+-------------+------------+------------+--------+-------------+-----------------+------------+-------------+---------------+------------------+--------------+--------------------+-----------+-----------+-----------+-------------+----------------+------------+--------------+----------------+-------------+-----------+-----------+-------------+----------------+------------+--------------+----------------+-------------+-----------+-----------+-------------+----------------+------------+--------------+----------------+-------------+-----------+-----------+-------------+----------------+------------+--------------+----------------+-------------+-----------+-----------+-------------+----------------+------------+--------------+----------------+-------------+-----------+-----+\n",
      "|Year|Quarter|Month|DayofMonth|DayOfWeek|FlightDate|UniqueCarrier|AirlineID|Carrier|TailNum|FlightNum|OriginAirportID|OriginAirportSeqID|OriginCityMarketID|Origin|OriginCityName|OriginState|OriginStateFips|OriginStateName|OriginWac|DestAirportID|DestAirportSeqID|DestCityMarketID|Dest|   DestCityName|DestState|DestStateFips|DestStateName|DestWac|CRSDepTime|DepTime|DepDelay|DepDelayMinutes|DepDel15|DepartureDelayGroups|DepTimeBlk|TaxiOut|WheelsOff|WheelsOn|TaxiIn|CRSArrTime|ArrTime|ArrDelay|ArrDelayMinutes|ArrDel15|ArrivalDelayGroups|ArrTimeBlk|Cancelled|CancellationCode|Diverted|CRSElapsedTime|ActualElapsedTime|AirTime|Flights|Distance|DistanceGroup|CarrierDelay|WeatherDelay|NASDelay|SecurityDelay|LateAircraftDelay|FirstDepTime|TotalAddGTime|LongestAddGTime|DivAirportLandings|DivReachedDest|DivActualElapsedTime|DivArrDelay|DivDistance|Div1Airport|Div1AirportID|Div1AirportSeqID|Div1WheelsOn|Div1TotalGTime|Div1LongestGTime|Div1WheelsOff|Div1TailNum|Div2Airport|Div2AirportID|Div2AirportSeqID|Div2WheelsOn|Div2TotalGTime|Div2LongestGTime|Div2WheelsOff|Div2TailNum|Div3Airport|Div3AirportID|Div3AirportSeqID|Div3WheelsOn|Div3TotalGTime|Div3LongestGTime|Div3WheelsOff|Div3TailNum|Div4Airport|Div4AirportID|Div4AirportSeqID|Div4WheelsOn|Div4TotalGTime|Div4LongestGTime|Div4WheelsOff|Div4TailNum|Div5Airport|Div5AirportID|Div5AirportSeqID|Div5WheelsOn|Div5TotalGTime|Div5LongestGTime|Div5WheelsOff|Div5TailNum|_c109|\n",
      "+----+-------+-----+----------+---------+----------+-------------+---------+-------+-------+---------+---------------+------------------+------------------+------+--------------+-----------+---------------+---------------+---------+-------------+----------------+----------------+----+---------------+---------+-------------+-------------+-------+----------+-------+--------+---------------+--------+--------------------+----------+-------+---------+--------+------+----------+-------+--------+---------------+--------+------------------+----------+---------+----------------+--------+--------------+-----------------+-------+-------+--------+-------------+------------+------------+--------+-------------+-----------------+------------+-------------+---------------+------------------+--------------+--------------------+-----------+-----------+-----------+-------------+----------------+------------+--------------+----------------+-------------+-----------+-----------+-------------+----------------+------------+--------------+----------------+-------------+-----------+-----------+-------------+----------------+------------+--------------+----------------+-------------+-----------+-----------+-------------+----------------+------------+--------------+----------------+-------------+-----------+-----------+-------------+----------------+------------+--------------+----------------+-------------+-----------+-----+\n",
      "|2005|      1|    1|         1|        6|2005-01-01|           AA|    19805|     AA| N338AA|        1|          12478|           1247801|             31703|   JFK|  New York, NY|         NY|             36|       New York|       22|        12892|         1289201|           32575| LAX|Los Angeles, CA|       CA|           06|   California|     91|      0900|   0901|    1.00|           1.00|    0.00|                   0| 0900-0959|  27.00|     0928|    1206|  8.00|      1210|   1214|    4.00|           4.00|    0.00|                 0| 1200-1259|     0.00|            null|    0.00|        370.00|           373.00| 338.00|   1.00| 2475.00|           10|        null|        null|    null|         null|             null|        null|         null|           null|              null|          null|                null|       null|       null|       null|         null|            null|        null|          null|            null|         null|       null|       null|         null|            null|        null|          null|            null|         null|       null|       null|         null|            null|        null|          null|            null|         null|       null|       null|         null|            null|        null|          null|            null|         null|       null|       null|         null|            null|        null|          null|            null|         null|       null| null|\n",
      "+----+-------+-----+----------+---------+----------+-------------+---------+-------+-------+---------+---------------+------------------+------------------+------+--------------+-----------+---------------+---------------+---------+-------------+----------------+----------------+----+---------------+---------+-------------+-------------+-------+----------+-------+--------+---------------+--------+--------------------+----------+-------+---------+--------+------+----------+-------+--------+---------------+--------+------------------+----------+---------+----------------+--------+--------------+-----------------+-------+-------+--------+-------------+------------+------------+--------+-------------+-----------------+------------+-------------+---------------+------------------+--------------+--------------------+-----------+-----------+-----------+-------------+----------------+------------+--------------+----------------+-------------+-----------+-----------+-------------+----------------+------------+--------------+----------------+-------------+-----------+-----------+-------------+----------------+------------+--------------+----------------+-------------+-----------+-----------+-------------+----------------+------------+--------------+----------------+-------------+-----------+-----------+-------------+----------------+------------+--------------+----------------+-------------+-----------+-----+\n",
      "only showing top 1 row\n",
      "\n",
      "Wall time: 1.02 s\n"
     ]
    }
   ],
   "source": [
    "%time AirlineDF.show(1)"
   ]
  },
  {
   "cell_type": "code",
   "execution_count": null,
   "id": "5590c068",
   "metadata": {},
   "outputs": [],
   "source": [
    "spark.stop()"
   ]
  },
  {
   "cell_type": "code",
   "execution_count": 9,
   "id": "33ecfb3c",
   "metadata": {},
   "outputs": [
    {
     "name": "stdout",
     "output_type": "stream",
     "text": [
      "Wall time: 228 ms\n"
     ]
    },
    {
     "data": {
      "text/plain": [
       "[Row(Year='2005', Quarter='1', Month='1', DayofMonth='1', DayOfWeek='6', FlightDate='2005-01-01', UniqueCarrier='AA', AirlineID='19805', Carrier='AA', TailNum='N338AA', FlightNum='1', OriginAirportID='12478', OriginAirportSeqID='1247801', OriginCityMarketID='31703', Origin='JFK', OriginCityName='New York, NY', OriginState='NY', OriginStateFips='36', OriginStateName='New York', OriginWac='22', DestAirportID='12892', DestAirportSeqID='1289201', DestCityMarketID='32575', Dest='LAX', DestCityName='Los Angeles, CA', DestState='CA', DestStateFips='06', DestStateName='California', DestWac='91', CRSDepTime='0900', DepTime='0901', DepDelay='1.00', DepDelayMinutes='1.00', DepDel15='0.00', DepartureDelayGroups='0', DepTimeBlk='0900-0959', TaxiOut='27.00', WheelsOff='0928', WheelsOn='1206', TaxiIn='8.00', CRSArrTime='1210', ArrTime='1214', ArrDelay='4.00', ArrDelayMinutes='4.00', ArrDel15='0.00', ArrivalDelayGroups='0', ArrTimeBlk='1200-1259', Cancelled='0.00', CancellationCode=None, Diverted='0.00', CRSElapsedTime='370.00', ActualElapsedTime='373.00', AirTime='338.00', Flights='1.00', Distance='2475.00', DistanceGroup='10', CarrierDelay=None, WeatherDelay=None, NASDelay=None, SecurityDelay=None, LateAircraftDelay=None, FirstDepTime=None, TotalAddGTime=None, LongestAddGTime=None, DivAirportLandings=None, DivReachedDest=None, DivActualElapsedTime=None, DivArrDelay=None, DivDistance=None, Div1Airport=None, Div1AirportID=None, Div1AirportSeqID=None, Div1WheelsOn=None, Div1TotalGTime=None, Div1LongestGTime=None, Div1WheelsOff=None, Div1TailNum=None, Div2Airport=None, Div2AirportID=None, Div2AirportSeqID=None, Div2WheelsOn=None, Div2TotalGTime=None, Div2LongestGTime=None, Div2WheelsOff=None, Div2TailNum=None, Div3Airport=None, Div3AirportID=None, Div3AirportSeqID=None, Div3WheelsOn=None, Div3TotalGTime=None, Div3LongestGTime=None, Div3WheelsOff=None, Div3TailNum=None, Div4Airport=None, Div4AirportID=None, Div4AirportSeqID=None, Div4WheelsOn=None, Div4TotalGTime=None, Div4LongestGTime=None, Div4WheelsOff=None, Div4TailNum=None, Div5Airport=None, Div5AirportID=None, Div5AirportSeqID=None, Div5WheelsOn=None, Div5TotalGTime=None, Div5LongestGTime=None, Div5WheelsOff=None, Div5TailNum=None, _c109=None)]"
      ]
     },
     "execution_count": 9,
     "metadata": {},
     "output_type": "execute_result"
    }
   ],
   "source": [
    "#To check what data in created dataframe \n",
    "%time AirlineDF.take(1)"
   ]
  },
  {
   "cell_type": "code",
   "execution_count": 10,
   "id": "75e595c1",
   "metadata": {},
   "outputs": [
    {
     "data": {
      "text/plain": [
       "5939653"
      ]
     },
     "execution_count": 10,
     "metadata": {},
     "output_type": "execute_result"
    }
   ],
   "source": [
    "#Calculate total rows in dataframe \n",
    "AirlineDF.count()"
   ]
  },
  {
   "cell_type": "code",
   "execution_count": 11,
   "id": "537039fa",
   "metadata": {},
   "outputs": [
    {
     "data": {
      "text/plain": [
       "110"
      ]
     },
     "execution_count": 11,
     "metadata": {},
     "output_type": "execute_result"
    }
   ],
   "source": [
    "#calculate total columns in dataframe\n",
    "len(AirlineDF.columns)"
   ]
  },
  {
   "cell_type": "markdown",
   "id": "2f01c783",
   "metadata": {},
   "source": [
    "<h1> Partition on dataframe </h1>\n",
    "<h1> reduce and increase no. of partition using coalesce() and repartion() </h1>\n",
    "<h1> here we are partition  data according to size or no. of rows </h1>"
   ]
  },
  {
   "cell_type": "code",
   "execution_count": 12,
   "id": "534baa62",
   "metadata": {},
   "outputs": [
    {
     "data": {
      "text/plain": [
       "22"
      ]
     },
     "execution_count": 12,
     "metadata": {},
     "output_type": "execute_result"
    }
   ],
   "source": [
    "#to check how many partition in current AirlineDF dataframe\n",
    "AirlineDF.rdd.getNumPartitions()"
   ]
  },
  {
   "cell_type": "code",
   "execution_count": 14,
   "id": "b7bd0778",
   "metadata": {},
   "outputs": [
    {
     "name": "stdout",
     "output_type": "stream",
     "text": [
      "Wall time: 2min 25s\n"
     ]
    }
   ],
   "source": [
    "#write dataframe in csv file and cross check no of partition\n",
    "%time AirlineDF.write.mode(\"overwrite\").csv(\"flight/airdata\", header=True)"
   ]
  },
  {
   "cell_type": "code",
   "execution_count": 15,
   "id": "a0d3b72e",
   "metadata": {},
   "outputs": [
    {
     "name": "stdout",
     "output_type": "stream",
     "text": [
      "Wall time: 79 ms\n"
     ]
    }
   ],
   "source": [
    "#reduce the no of partion from 22 to 5 here we are using coalesce() function \n",
    "#using coalesce() you can only reduce the no. of partition not increase no. of partition\n",
    "%time AirlineDF1 = AirlineDF.coalesce(5)"
   ]
  },
  {
   "cell_type": "code",
   "execution_count": 16,
   "id": "fbe5eff8",
   "metadata": {},
   "outputs": [
    {
     "data": {
      "text/plain": [
       "5"
      ]
     },
     "execution_count": 16,
     "metadata": {},
     "output_type": "execute_result"
    }
   ],
   "source": [
    "#to check how many partition in current AirlineDF1 dataFrame\n",
    "AirlineDF1.rdd.getNumPartitions()"
   ]
  },
  {
   "cell_type": "code",
   "execution_count": 17,
   "id": "17564759",
   "metadata": {},
   "outputs": [
    {
     "name": "stdout",
     "output_type": "stream",
     "text": [
      "Wall time: 1min 38s\n"
     ]
    }
   ],
   "source": [
    "#write dataframe in csv file and cross check no of partition\n",
    "%time AirlineDF1.write.mode(\"overwrite\").csv(\"flight/airline_5\", header=True)"
   ]
  },
  {
   "cell_type": "code",
   "execution_count": 18,
   "id": "8f50e406",
   "metadata": {},
   "outputs": [
    {
     "name": "stdout",
     "output_type": "stream",
     "text": [
      "Wall time: 11 ms\n"
     ]
    }
   ],
   "source": [
    "#To increase the no of partition from 5 to 10 here we are using repartition() function\n",
    "%time AirlineDF2 = AirlineDF1.repartition(10)"
   ]
  },
  {
   "cell_type": "code",
   "execution_count": 19,
   "id": "a4b86680",
   "metadata": {},
   "outputs": [
    {
     "data": {
      "text/plain": [
       "10"
      ]
     },
     "execution_count": 19,
     "metadata": {},
     "output_type": "execute_result"
    }
   ],
   "source": [
    "#to check how many partition in current AirlineDF2 dataframe\n",
    "AirlineDF2.rdd.getNumPartitions()"
   ]
  },
  {
   "cell_type": "code",
   "execution_count": 20,
   "id": "7dd056a0",
   "metadata": {},
   "outputs": [
    {
     "name": "stdout",
     "output_type": "stream",
     "text": [
      "Wall time: 7min 25s\n"
     ]
    }
   ],
   "source": [
    "#write dataframe in csv file and cross check no of partition \n",
    "%time AirlineDF2.write.mode(\"overwrite\").csv(\"flight/airline_10\", header=True)"
   ]
  },
  {
   "cell_type": "markdown",
   "id": "95502a32",
   "metadata": {},
   "source": [
    "<h1> partition dataframe by perticular column </h1>\n",
    "\n",
    "<h1> here we are using partitionBy() </h1>\n",
    "\n"
   ]
  },
  {
   "cell_type": "code",
   "execution_count": 21,
   "id": "9ffab536",
   "metadata": {},
   "outputs": [
    {
     "name": "stdout",
     "output_type": "stream",
     "text": [
      "Wall time: 10min 57s\n",
      "Parser   : 134 ms\n"
     ]
    }
   ],
   "source": [
    "#partition data by one column \n",
    "%time AirlineDF.write.option(\"header\", True) \\\n",
    "        .partitionBy('Year') \\\n",
    "        .mode(\"overwrite\") \\\n",
    "        .csv(\"flight/airline_year\")"
   ]
  },
  {
   "cell_type": "code",
   "execution_count": 22,
   "id": "463b6a4c",
   "metadata": {},
   "outputs": [
    {
     "name": "stdout",
     "output_type": "stream",
     "text": [
      "Wall time: 11min 40s\n"
     ]
    }
   ],
   "source": [
    "#partition data by multiple columns\n",
    "%time AirlineDF.write.option(\"header\", True) \\\n",
    "        .partitionBy(\"Year\",\"UniqueCarrier\") \\\n",
    "        .mode(\"overwrite\") \\\n",
    "        .csv(\"flight/airline_multiple\")"
   ]
  },
  {
   "cell_type": "markdown",
   "id": "d08090e4",
   "metadata": {},
   "source": [
    "<h1> Read partition data in pyspark with specific columns </h1>"
   ]
  },
  {
   "cell_type": "code",
   "execution_count": 23,
   "id": "26c28393",
   "metadata": {},
   "outputs": [
    {
     "name": "stdout",
     "output_type": "stream",
     "text": [
      "Wall time: 2.7 s\n"
     ]
    }
   ],
   "source": [
    "#year 2015 and UniqueCarrier All\n",
    "%time AirlineDF4 = spark.read.option(\"basePath\",\"flight/airline_multiple\") \\\n",
    "        .csv(\"flight/airline_multiple/Year=2015/UniqueCarrier=*\")"
   ]
  },
  {
   "cell_type": "code",
   "execution_count": 24,
   "id": "17cc4861",
   "metadata": {},
   "outputs": [
    {
     "name": "stdout",
     "output_type": "stream",
     "text": [
      "+----+-------------+\n",
      "|Year|UniqueCarrier|\n",
      "+----+-------------+\n",
      "|2015|           WN|\n",
      "|2015|           WN|\n",
      "|2015|           WN|\n",
      "|2015|           WN|\n",
      "|2015|           WN|\n",
      "|2015|           WN|\n",
      "|2015|           WN|\n",
      "|2015|           WN|\n",
      "|2015|           WN|\n",
      "|2015|           WN|\n",
      "|2015|           WN|\n",
      "|2015|           WN|\n",
      "|2015|           WN|\n",
      "|2015|           WN|\n",
      "|2015|           WN|\n",
      "|2015|           WN|\n",
      "|2015|           WN|\n",
      "|2015|           WN|\n",
      "|2015|           WN|\n",
      "|2015|           WN|\n",
      "+----+-------------+\n",
      "only showing top 20 rows\n",
      "\n",
      "Wall time: 215 ms\n"
     ]
    }
   ],
   "source": [
    "#To check\n",
    "%time AirlineDF4.select(\"Year\",\"UniqueCarrier\").show()"
   ]
  },
  {
   "cell_type": "code",
   "execution_count": 25,
   "id": "6b85496b",
   "metadata": {},
   "outputs": [
    {
     "name": "stdout",
     "output_type": "stream",
     "text": [
      "Wall time: 525 ms\n"
     ]
    },
    {
     "data": {
      "text/plain": [
       "[Row(Year=2015, UniqueCarrier='WN'),\n",
       " Row(Year=2015, UniqueCarrier='WN'),\n",
       " Row(Year=2015, UniqueCarrier='WN'),\n",
       " Row(Year=2015, UniqueCarrier='WN'),\n",
       " Row(Year=2015, UniqueCarrier='WN')]"
      ]
     },
     "execution_count": 25,
     "metadata": {},
     "output_type": "execute_result"
    }
   ],
   "source": [
    "%time AirlineDF4.select(\"Year\",\"UniqueCarrier\").take(5)"
   ]
  },
  {
   "cell_type": "code",
   "execution_count": 7,
   "id": "abe8ff3a",
   "metadata": {},
   "outputs": [
    {
     "name": "stdout",
     "output_type": "stream",
     "text": [
      "Wall time: 3min 45s\n"
     ]
    }
   ],
   "source": [
    "#all Year and UniqueCarrier\n",
    "%time AirlineDF5 = spark.read.option(\"basePath\", \"flight/airline_multiple\").csv(\"flight/airline_multiple/Year=*/UniqueCarrier=*\")"
   ]
  },
  {
   "cell_type": "code",
   "execution_count": 28,
   "id": "1a6d4b0e",
   "metadata": {},
   "outputs": [
    {
     "name": "stdout",
     "output_type": "stream",
     "text": [
      "+----+-------------+\n",
      "|Year|UniqueCarrier|\n",
      "+----+-------------+\n",
      "|2008|           WN|\n",
      "|2008|           WN|\n",
      "|2008|           WN|\n",
      "|2008|           WN|\n",
      "|2008|           WN|\n",
      "|2008|           WN|\n",
      "|2008|           WN|\n",
      "|2008|           WN|\n",
      "|2008|           WN|\n",
      "|2008|           WN|\n",
      "|2008|           WN|\n",
      "|2008|           WN|\n",
      "|2008|           WN|\n",
      "|2008|           WN|\n",
      "|2008|           WN|\n",
      "|2008|           WN|\n",
      "|2008|           WN|\n",
      "|2008|           WN|\n",
      "|2008|           WN|\n",
      "|2008|           WN|\n",
      "+----+-------------+\n",
      "only showing top 20 rows\n",
      "\n",
      "Wall time: 1.09 s\n"
     ]
    }
   ],
   "source": [
    "%time AirlineDF5.select(\"Year\",\"UniqueCarrier\").show()"
   ]
  },
  {
   "cell_type": "code",
   "execution_count": 29,
   "id": "ad8dd049",
   "metadata": {},
   "outputs": [
    {
     "name": "stdout",
     "output_type": "stream",
     "text": [
      "+-------------+------+\n",
      "|UniqueCarrier| count|\n",
      "+-------------+------+\n",
      "|           AA|538352|\n",
      "|           EV|391570|\n",
      "|           UA|406417|\n",
      "|           NW|163593|\n",
      "|           B6|179952|\n",
      "|           HP| 16256|\n",
      "|           NK|  8745|\n",
      "|   2014-07-14|    10|\n",
      "|   2019-06-15|    12|\n",
      "|   2011-12-13|     8|\n",
      "|   2015-03-28|    14|\n",
      "|   2014-01-23|    14|\n",
      "|   2019-10-09|     6|\n",
      "|   2015-07-06|    20|\n",
      "|   2018-08-02|    10|\n",
      "|   2018-10-25|     8|\n",
      "|   2015-08-07|     8|\n",
      "|   2019-01-27|    12|\n",
      "|   2008-11-14|    10|\n",
      "|   2009-08-09|     6|\n",
      "+-------------+------+\n",
      "only showing top 20 rows\n",
      "\n",
      "Wall time: 1min 34s\n"
     ]
    }
   ],
   "source": [
    "#perform on partition data\n",
    "%time AirlineDF5.select(\"UniqueCarrier\").groupby(\"UniqueCarrier\").count().show()"
   ]
  },
  {
   "cell_type": "code",
   "execution_count": 31,
   "id": "b21c6917",
   "metadata": {},
   "outputs": [
    {
     "name": "stdout",
     "output_type": "stream",
     "text": [
      "+-------------+-------+\n",
      "|UniqueCarrier|  count|\n",
      "+-------------+-------+\n",
      "|           UA| 406402|\n",
      "|           AA| 538341|\n",
      "|           NW| 163584|\n",
      "|           B6| 179940|\n",
      "|           DL| 568787|\n",
      "|           US| 403807|\n",
      "|           DH|  16279|\n",
      "|           AS| 133808|\n",
      "|           CO| 159640|\n",
      "|           WN|1025308|\n",
      "|           EV| 391554|\n",
      "|           YV| 147059|\n",
      "|           OO| 523534|\n",
      "|           OH| 121143|\n",
      "|           KH|   7903|\n",
      "|           9E| 111730|\n",
      "|           F9|  67129|\n",
      "|           MQ| 424852|\n",
      "|           HA|  59225|\n",
      "|           XE| 212260|\n",
      "+-------------+-------+\n",
      "only showing top 20 rows\n",
      "\n",
      "Wall time: 15.3 s\n"
     ]
    }
   ],
   "source": [
    "#without partition\n",
    "%time AirlineDF.select(\"UniqueCarrier\").groupby(\"UniqueCarrier\").count().show()"
   ]
  },
  {
   "cell_type": "markdown",
   "id": "1c1d048e",
   "metadata": {},
   "source": [
    "<h1> using repartition and partitionBy together </h1>"
   ]
  },
  {
   "cell_type": "code",
   "execution_count": 32,
   "id": "bb9a1440",
   "metadata": {},
   "outputs": [
    {
     "name": "stdout",
     "output_type": "stream",
     "text": [
      "Wall time: 11min 27s\n"
     ]
    }
   ],
   "source": [
    "#Use repartition() and partitionBy() together\n",
    "%time AirlineDF.repartition(3) \\\n",
    "        .write.option(\"header\",True) \\\n",
    "        .partitionBy(\"Year\") \\\n",
    "        .mode(\"overwrite\") \\\n",
    "        .csv(\"flight/airline5\")\n",
    "\n",
    "#to check what happen when both are applying together"
   ]
  },
  {
   "cell_type": "markdown",
   "id": "d7c8828e",
   "metadata": {},
   "source": [
    "<h1> partitionBy() control number of partitions </h1>"
   ]
  },
  {
   "cell_type": "code",
   "execution_count": 33,
   "id": "9de169db",
   "metadata": {},
   "outputs": [
    {
     "name": "stdout",
     "output_type": "stream",
     "text": [
      "Wall time: 11min 5s\n"
     ]
    }
   ],
   "source": [
    "%time AirlineDF.write.option(\"header\",True) \\\n",
    "        .option(\"maxRecordPerFile\", 1000000) \\\n",
    "        .partitionBy(\"Year\") \\\n",
    "        .mode(\"overwrite\") \\\n",
    "        .csv(\"flight/airline_max_records\")\n",
    "#to check what happen when applying maxRecordsPerFile is one million\n"
   ]
  },
  {
   "cell_type": "markdown",
   "id": "ba980b6c",
   "metadata": {},
   "source": [
    "<h1> with partition </h1>"
   ]
  },
  {
   "cell_type": "code",
   "execution_count": 10,
   "id": "537d30fd",
   "metadata": {},
   "outputs": [
    {
     "name": "stdout",
     "output_type": "stream",
     "text": [
      "+-------------+-------------+\n",
      "|UniqueCarrier|Total Flights|\n",
      "+-------------+-------------+\n",
      "|   1987-10-01|            8|\n",
      "|   1987-10-02|           14|\n",
      "|   1987-10-03|            6|\n",
      "|   1987-10-04|            4|\n",
      "|   1987-10-05|           14|\n",
      "|   1987-10-06|            4|\n",
      "|   1987-10-07|            6|\n",
      "|   1987-10-08|            8|\n",
      "|   1987-10-09|            8|\n",
      "|   1987-10-10|           12|\n",
      "|   1987-10-11|            4|\n",
      "|   1987-10-12|           10|\n",
      "|   1987-10-13|            2|\n",
      "|   1987-10-14|            8|\n",
      "|   1987-10-15|            4|\n",
      "|   1987-10-16|            2|\n",
      "|   1987-10-17|           10|\n",
      "|   1987-10-18|            8|\n",
      "|   1987-10-19|            6|\n",
      "|   1987-10-20|            2|\n",
      "+-------------+-------------+\n",
      "only showing top 20 rows\n",
      "\n",
      "Wall time: 1min 29s\n",
      "Compiler : 161 ms\n"
     ]
    }
   ],
   "source": [
    "#calculate total no of flights and group data by Carrier \n",
    "%time AirlineDF5.select('Year','UniqueCarrier') \\\n",
    ".filter((AirlineDF5.Year >= 2015)).groupBy('UniqueCarrier') \\\n",
    ".count().withColumnRenamed('count', 'Total Flights').orderBy('UniqueCarrier').show()"
   ]
  },
  {
   "cell_type": "markdown",
   "id": "331005e0",
   "metadata": {},
   "source": [
    "<h1> without partition </h1>"
   ]
  },
  {
   "cell_type": "code",
   "execution_count": 12,
   "id": "348ce9f9",
   "metadata": {},
   "outputs": [
    {
     "name": "stdout",
     "output_type": "stream",
     "text": [
      "+-------------+-------------+\n",
      "|UniqueCarrier|Total Flights|\n",
      "+-------------+-------------+\n",
      "|   1987-10-01|            4|\n",
      "|   1987-10-02|            7|\n",
      "|   1987-10-03|            3|\n",
      "|   1987-10-04|            2|\n",
      "|   1987-10-05|            7|\n",
      "|   1987-10-06|            2|\n",
      "|   1987-10-07|            3|\n",
      "|   1987-10-08|            4|\n",
      "|   1987-10-09|            4|\n",
      "|   1987-10-10|            6|\n",
      "|   1987-10-11|            2|\n",
      "|   1987-10-12|            5|\n",
      "|   1987-10-13|            1|\n",
      "|   1987-10-14|            4|\n",
      "|   1987-10-15|            2|\n",
      "|   1987-10-16|            1|\n",
      "|   1987-10-17|            5|\n",
      "|   1987-10-18|            4|\n",
      "|   1987-10-19|            3|\n",
      "|   1987-10-20|            1|\n",
      "+-------------+-------------+\n",
      "only showing top 20 rows\n",
      "\n",
      "Wall time: 20.6 s\n"
     ]
    }
   ],
   "source": [
    "#calculate total no of flights and group data by Carrier \n",
    "%time AirlineDF.select('Year','UniqueCarrier') \\\n",
    ".filter((AirlineDF.Year >= 2015)).groupby('UniqueCarrier') \\\n",
    ".count().withColumnRenamed('count','Total Flights').orderBy('UniqueCarrier').show()"
   ]
  },
  {
   "cell_type": "code",
   "execution_count": null,
   "id": "b7d0f3af",
   "metadata": {},
   "outputs": [],
   "source": []
  }
 ],
 "metadata": {
  "kernelspec": {
   "display_name": "Python 3 (ipykernel)",
   "language": "python",
   "name": "python3"
  },
  "language_info": {
   "codemirror_mode": {
    "name": "ipython",
    "version": 3
   },
   "file_extension": ".py",
   "mimetype": "text/x-python",
   "name": "python",
   "nbconvert_exporter": "python",
   "pygments_lexer": "ipython3",
   "version": "3.9.7"
  }
 },
 "nbformat": 4,
 "nbformat_minor": 5
}
